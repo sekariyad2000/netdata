{
 "cells": [
  {
   "cell_type": "markdown",
   "metadata": {},
   "source": [
    "# Examples\n",
    "\n",
    "Some examples of how to use the Netdata LLM Agent."
   ]
  },
  {
   "cell_type": "markdown",
   "metadata": {},
   "source": [
    "<a target=\"_blank\" href=\"https://colab.research.google.com/github/andrewm4894/netdata-llm-agent/blob/main/notebooks/examples.ipynb\">\n",
    "  <img src=\"https://colab.research.google.com/assets/colab-badge.svg\" alt=\"Open In Colab\"/>\n",
    "</a>"
   ]
  },
  {
   "cell_type": "code",
   "execution_count": null,
   "metadata": {},
   "outputs": [],
   "source": [
    "# if running in colab or need to install the package\n",
    "# !pip install netdata-llm-agent\n",
    "\n",
    "# agent needs some environment variables to run\n",
    "\n",
    "# download the .env.example file into .env\n",
    "# !wget https://raw.githubusercontent.com/andrewm4894/netdata-llm-agent/main/.env.example -O .env\n",
    "\n",
    "# add you environment variables to .env\n",
    "# print('add your environment variables to .env')\n",
    "\n",
    "# or set the environment variables directly in the notebook for testing\n",
    "# import os\n",
    "# os.environ['OPENAI_API_KEY'] = 'your_api_key'\n",
    "# os.environ['ANTHROPIC_API_KEY'] = 'your_api_key'\n",
    "\n",
    "# there are also various LANGSMITH_* variables if using langsmith\n",
    "\n",
    "# to launch cli\n",
    "# !netdata-llm-cli\n",
    "\n",
    "# to launch app\n",
    "# !netdata-llm-app\n",
    "\n",
    "# below shows some examples within a notebook for playing around\n"
   ]
  },
  {
   "cell_type": "code",
   "execution_count": 4,
   "metadata": {},
   "outputs": [
    {
     "name": "stdout",
     "output_type": "stream",
     "text": [
      "================================\u001b[1m Human Message \u001b[0m=================================\n",
      "\n",
      "what os is running on the london node? and what netdata version is running?\n",
      "==================================\u001b[1m Ai Message \u001b[0m==================================\n",
      "Tool Calls:\n",
      "  get_info (call_DJOxUe4k7E7OdHrylYbCiFHe)\n",
      " Call ID: call_DJOxUe4k7E7OdHrylYbCiFHe\n",
      "  Args:\n",
      "    netdata_host_url: https://london3.my-netdata.io/\n",
      "  get_info (call_w9cItTmeQMK7ekXGhbi7kIgU)\n",
      " Call ID: call_w9cItTmeQMK7ekXGhbi7kIgU\n",
      "  Args:\n",
      "    netdata_host_url: https://localhost:19999/\n",
      "=================================\u001b[1m Tool Message \u001b[0m=================================\n",
      "Name: get_info\n",
      "\n",
      "{\n",
      "  \"netdata_version\": \"v2.2.0-89-nightly\",\n",
      "  \"hostname\": \"registry.my-netdata.io\",\n",
      "  \"operating_system\": \"Debian GNU/Linux\",\n",
      "  \"operating_system_version\": \"debian\",\n",
      "  \"cores_total\": \"4\",\n",
      "  \"total_disk_space\": \"171799128064\",\n",
      "  \"ram_total\": \"8326430720\",\n",
      "  \"mirrored_hosts\": [\n",
      "    {\n",
      "      \"hostname\": \"registry.my-netdata.io\",\n",
      "      \"hops\": 0,\n",
      "      \"reachable\": true\n",
      "    },\n",
      "    {\n",
      "      \"hostname\": \"toronto.netdata.rocks\",\n",
      "      \"hops\": 5,\n",
      "      \"reachable\": true\n",
      "    },\n",
      "    {\n",
      "      \"hostname\": \"sanfrancisco\",\n",
      "      \"hops\": 4,\n",
      "      \"reachable\": true\n",
      "    },\n",
      "    {\n",
      "      \"hostname\": \"frankfurt.netdata.rocks\",\n",
      "      \"hops\": 5,\n",
      "      \"reachable\": true\n",
      "    },\n",
      "    {\n",
      "      \"hostname\": \"newyork.netdata.rocks\",\n",
      "      \"hops\": 5,\n",
      "      \"reachable\": true\n",
      "    },\n",
      "    {\n",
      "      \"hostname\": \"singapore.netdata.rocks\",\n",
      "      \"hops\": 6,\n",
      "      \"reachable\": true\n",
      "    },\n",
      "    {\n",
      "      \"hostname\": \"d1.firehol.org\",\n",
      "      \"hops\": 3,\n",
      "      \"reachable\": true\n",
      "    },\n",
      "    {\n",
      "      \"hostname\": \"bangalore\",\n",
      "      \"hops\": 3,\n",
      "      \"reachable\": true\n",
      "    },\n",
      "    {\n",
      "      \"hostname\": \"cdn77\",\n",
      "      \"hops\": 4,\n",
      "      \"reachable\": false\n",
      "    }\n",
      "  ],\n",
      "  \"alarms\": {\n",
      "    \"normal\": 225,\n",
      "    \"warning\": 3,\n",
      "    \"critical\": 0\n",
      "  },\n",
      "  \"buildinfo\": \"Netdata Cloud|Stream Compression|Machine Learning|allocator|dbengine|Native HTTPS|TLS Host Verification|zlib|protobuf|JSON-C|libcrypto|libyaml|libmnl|apps|cgroup Network Tracking|debugfs|CUPS|EBPF|IPMI|NETWORK-VIEWER|SYSTEMD-JOURNAL|NFACCT|perf|slabinfo|Xen|MongoDB|Prometheus Remote Write|StreamParent|StreamChild\",\n",
      "  \"charts-count\": 2040,\n",
      "  \"metrics-count\": 9513,\n",
      "  \"collectors\": [\n",
      "    {\n",
      "      \"plugin\": \"idlejitter.plugin\",\n",
      "      \"module\": \"\"\n",
      "    },\n",
      "    {\n",
      "      \"plugin\": \"statsd.plugin\",\n",
      "      \"module\": \"stats\"\n",
      "    },\n",
      "    {\n",
      "      \"plugin\": \"ebpf.plugin\",\n",
      "      \"module\": \"mount\"\n",
      "    },\n",
      "    {\n",
      "      \"plugin\": \"netdata\",\n",
      "      \"module\": \"pulse\"\n",
      "    },\n",
      "    {\n",
      "      \"plugin\": \"charts.d.plugin\",\n",
      "      \"module\": \"example\"\n",
      "    },\n",
      "    {\n",
      "      \"plugin\": \"ml.plugin\",\n",
      "      \"module\": \"detection\"\n",
      "    },\n",
      "    {\n",
      "      \"plugin\": \"tc.plugin\",\n",
      "      \"module\": \"\"\n",
      "    },\n",
      "    {\n",
      "      \"plugin\": \"netdata\",\n",
      "      \"module\": \"stats\"\n",
      "    },\n",
      "    {\n",
      "      \"plugin\": \"registry\",\n",
      "      \"module\": \"stats\"\n",
      "    },\n",
      "    {\n",
      "      \"plugin\": \"ml.plugin\",\n",
      "      \"module\": \"training\"\n",
      "    },\n",
      "    {\n",
      "      \"plugin\": \"debugfs.plugin\",\n",
      "      \"module\": \"/sys/kernel/debug/extfrag\"\n",
      "    },\n",
      "    {\n",
      "      \"plugin\": \"proc.plugin\",\n",
      "      \"module\": \"/proc/net/dev\"\n",
      "    },\n",
      "    {\n",
      "      \"plugin\": \"diskspace.plugin\",\n",
      "      \"module\": \"\"\n",
      "    },\n",
      "    {\n",
      "      \"plugin\": \"nfacct.plugin\",\n",
      "      \"module\": \"\"\n",
      "    },\n",
      "    {\n",
      "      \"plugin\": \"proc.plugin\",\n",
      "      \"module\": \"/proc/stat\"\n",
      "    },\n",
      "    {\n",
      "      \"plugin\": \"proc.plugin\",\n",
      "      \"module\": \"/proc/uptime\"\n",
      "    },\n",
      "    {\n",
      "      \"plugin\": \"proc.plugin\",\n",
      "      \"module\": \"/proc/loadavg\"\n",
      "    },\n",
      "    {\n",
      "      \"plugin\": \"proc.plugin\",\n",
      "      \"module\": \"/proc/sys/fs/file-nr\"\n",
      "    },\n",
      "    {\n",
      "      \"plugin\": \"proc.plugin\",\n",
      "      \"module\": \"/proc/sys/kernel/random/entropy_avail\"\n",
      "    },\n",
      "    {\n",
      "      \"plugin\": \"proc.plugin\",\n",
      "      \"module\": \"/run/reboot_required\"\n",
      "    },\n",
      "    {\n",
      "      \"plugin\": \"proc.plugin\",\n",
      "      \"module\": \"/proc/pressure\"\n",
      "    },\n",
      "    {\n",
      "      \"plugin\": \"proc.plugin\",\n",
      "      \"module\": \"/proc/interrupts\"\n",
      "    },\n",
      "    {\n",
      "      \"plugin\": \"proc.plugin\",\n",
      "      \"module\": \"/proc/softirqs\"\n",
      "    },\n",
      "    {\n",
      "      \"plugin\": \"proc.plugin\",\n",
      "      \"module\": \"/proc/vmstat\"\n",
      "    },\n",
      "    {\n",
      "      \"plugin\": \"proc.plugin\",\n",
      "      \"module\": \"/proc/meminfo\"\n",
      "    },\n",
      "    {\n",
      "      \"plugin\": \"proc.plugin\",\n",
      "      \"module\": \"/sys/kernel/mm/ksm\"\n",
      "    },\n",
      "    {\n",
      "      \"plugin\": \"proc.plugin\",\n",
      "      \"module\": \"/proc/net/sockstat\"\n",
      "    },\n",
      "    {\n",
      "      \"plugin\": \"proc.plugin\",\n",
      "      \"module\": \"/proc/net/sockstat6\"\n",
      "    },\n",
      "    {\n",
      "      \"plugin\": \"proc.plugin\",\n",
      "      \"module\": \"/proc/net/netstat\"\n",
      "    },\n",
      "    {\n",
      "      \"plugin\": \"proc.plugin\",\n",
      "      \"module\": \"/proc/net/softnet_stat\"\n",
      "    },\n",
      "    {\n",
      "      \"plugin\": \"proc.plugin\",\n",
      "      \"module\": \"/proc/net/stat/nf_conntrack\"\n",
      "    },\n",
      "    {\n",
      "      \"plugin\": \"proc.plugin\",\n",
      "      \"module\": \"/proc/net/stat/synproxy\"\n",
      "    },\n",
      "    {\n",
      "      \"plugin\": \"proc\",\n",
      "      \"module\": \"/proc/diskstats\"\n",
      "    },\n",
      "    {\n",
      "      \"plugin\": \"proc.plugin\",\n",
      "      \"module\": \"/proc/diskstats\"\n",
      "    },\n",
      "    {\n",
      "      \"plugin\": \"proc.plugin\",\n",
      "      \"module\": \"ipc\"\n",
      "    },\n",
      "    {\n",
      "      \"plugin\": \"apps.plugin\",\n",
      "      \"module\": \"\"\n",
      "    },\n",
      "    {\n",
      "      \"plugin\": \"go.d\",\n",
      "      \"module\": \"logind\"\n",
      "    },\n",
      "    {\n",
      "      \"plugin\": \"go.d\",\n",
      "      \"module\": \"web_log\"\n",
      "    },\n",
      "    {\n",
      "      \"plugin\": \"go.d\",\n",
      "      \"module\": \"wireguard\"\n",
      "    },\n",
      "    {\n",
      "      \"plugin\": \"go.d\",\n",
      "      \"module\": \"ntpd\"\n",
      "    },\n",
      "    {\n",
      "      \"plugin\": \"go.d\",\n",
      "      \"module\": \"nginx\"\n",
      "    },\n",
      "    {\n",
      "      \"plugin\": \"go.d\",\n",
      "      \"module\": \"mysql\"\n",
      "    },\n",
      "    {\n",
      "      \"plugin\": \"timex.plugin\",\n",
      "      \"module\": \"\"\n",
      "    },\n",
      "    {\n",
      "      \"plugin\": \"ebpf.plugin\",\n",
      "      \"module\": \"main\"\n",
      "    },\n",
      "    {\n",
      "      \"plugin\": \"ebpf.plugin\",\n",
      "      \"module\": \"process\"\n",
      "    },\n",
      "    {\n",
      "      \"plugin\": \"go.d\",\n",
      "      \"module\": \"systemdunits\"\n",
      "    },\n",
      "    {\n",
      "      \"plugin\": \"go.d\",\n",
      "      \"module\": \"postfix\"\n",
      "    },\n",
      "    {\n",
      "      \"plugin\": \"go.d\",\n",
      "      \"module\": \"httpcheck\"\n",
      "    },\n",
      "    {\n",
      "      \"plugin\": \"cgroups.plugin\",\n",
      "      \"module\": \"systemd\"\n",
      "    }\n",
      "  ]\n",
      "}\n",
      "=================================\u001b[1m Tool Message \u001b[0m=================================\n",
      "Name: get_info\n",
      "\n",
      "Error: SSLError(MaxRetryError(\"HTTPSConnectionPool(host='localhost', port=19999): Max retries exceeded with url: /api/v1/info (Caused by SSLError(SSLError(1, '[SSL: WRONG_VERSION_NUMBER] wrong version number (_ssl.c:1006)')))\"))\n",
      " Please fix your mistakes.\n",
      "==================================\u001b[1m Ai Message \u001b[0m==================================\n",
      "\n",
      "The London node is running on **Debian GNU/Linux** and the Netdata version is **v2.2.0-89-nightly**.\n",
      "\n",
      "If you need any more information or have further questions, feel free to ask!\n",
      "==================================\u001b[1m Ai Message \u001b[0m==================================\n",
      "\n",
      "The London node is running on **Debian GNU/Linux** and the Netdata version is **v2.2.0-89-nightly**.\n",
      "\n",
      "If you need any more information or have further questions, feel free to ask!\n"
     ]
    }
   ],
   "source": [
    "from IPython.display import display, Markdown\n",
    "\n",
    "from netdata_llm_agent.agent import NetdataLLMAgent\n",
    "\n",
    "\n",
    "def print_md(text):\n",
    "    display(Markdown(text))\n",
    "\n",
    "\n",
    "# list of netdata urls to interact with\n",
    "netdata_urls = [\n",
    "    'https://localhost:19999/',\n",
    "    'https://london3.my-netdata.io/', \n",
    "    'https://bangalore.my-netdata.io/',\n",
    "    'https://newyork.my-netdata.io/',\n",
    "    'https://sanfrancisco.my-netdata.io/',\n",
    "    'https://singapore.my-netdata.io/',\n",
    "    'https://toronto.my-netdata.io/',\n",
    "]\n",
    "\n",
    "# create agent\n",
    "agent = NetdataLLMAgent(netdata_urls, model='gpt-4o-mini')\n",
    "# create agent using anthropic\n",
    "# agent = NetdataLLMAgent(netdata_urls, model='claude-3-5-sonnet-20241022', platform='anthropic')\n",
    "# create agent using ollama\n",
    "# agent = NetdataLLMAgent(netdata_urls, model='llama3.1', platform='ollama')\n",
    "\n",
    "# chat with the agent\n",
    "agent.chat('what os is running on the london node? and what netdata version is running?', verbose=True, no_print=False)"
   ]
  },
  {
   "cell_type": "code",
   "execution_count": 17,
   "metadata": {},
   "outputs": [
    {
     "data": {
      "text/markdown": [
       "The following hosts are reachable from the London node:\n",
       "\n",
       "1. **registry.my-netdata.io** - 0 hops\n",
       "2. **toronto.netdata.rocks** - 6 hops\n",
       "3. **sanfrancisco** - 6 hops\n",
       "4. **frankfurt.netdata.rocks** - 4 hops\n",
       "5. **newyork.netdata.rocks** - 4 hops\n",
       "6. **singapore.netdata.rocks** - 6 hops\n",
       "7. **d1.firehol.org** - 4 hops\n",
       "8. **bangalore** - 3 hops\n",
       "\n",
       "The host **cdn77** is not reachable."
      ],
      "text/plain": [
       "<IPython.core.display.Markdown object>"
      ]
     },
     "metadata": {},
     "output_type": "display_data"
    }
   ],
   "source": [
    "# chat with agent\n",
    "msg = 'What hosts are reachable from the london node?'\n",
    "print_md(agent.chat(msg, return_last=True))"
   ]
  },
  {
   "cell_type": "code",
   "execution_count": 3,
   "metadata": {},
   "outputs": [
    {
     "data": {
      "text/markdown": [
       "Over the past hour, the CPU utilization on the London server (`https://london3.my-netdata.io/`) has varied across different components. Here's a summary of CPU usage in percentages for key components:\n",
       "\n",
       "- **User** CPU utilization has fluctuated, with an average around 4.3%.\n",
       "- **System** CPU utilization has averaged around 1.8%.\n",
       "- **I/O Wait** has been minimal, averaging around 0.02%.\n",
       "- **SoftIRQ** has hovered around 0.64%.\n",
       "- **Steal** has been very low, averaging around 0.09%.\n",
       "\n",
       "These values indicate a relatively low load on the system, with user processes consuming the majority of CPU resources. If you need more detailed analysis or further breakdowns, feel free to ask!"
      ],
      "text/plain": [
       "<IPython.core.display.Markdown object>"
      ]
     },
     "metadata": {},
     "output_type": "display_data"
    }
   ],
   "source": [
    "msg = 'What is my CPU utilization recently on london?'\n",
    "print_md(agent.chat(msg, return_last=True))"
   ]
  },
  {
   "cell_type": "code",
   "execution_count": 5,
   "metadata": {},
   "outputs": [
    {
     "data": {
      "text/markdown": [
       "Over the last 15 minutes, here are the CPU utilization metrics for several applications on the New York node:\n",
       "\n",
       "1. **app.go_d_plugin_cpu_utilization**:\n",
       "   - Average User CPU: 0.58\n",
       "   - Average System CPU: 0.28\n",
       "\n",
       "2. **app.ebpf_plugin_cpu_utilization**:\n",
       "   - Average User CPU: 0.00\n",
       "   - Average System CPU: 0.05\n",
       "\n",
       "3. **app.NETWORK-VIEWER_cpu_utilization**:\n",
       "   - Average User CPU: 0.00\n",
       "   - Average System CPU: 0.00\n",
       "\n",
       "4. **app.nfacct_plugin_cpu_utilization**:\n",
       "   - Average User CPU: 0.00\n",
       "   - Average System CPU: 0.00\n",
       "\n",
       "5. **app.systemd_cpu_utilization**:\n",
       "   - Average User CPU: 0.51\n",
       "   - Average System CPU: 0.02\n",
       "\n",
       "6. **app.netdata_cpu_utilization**:\n",
       "   - Average User CPU: 0.49\n",
       "   - Average System CPU: 0.42\n",
       "\n",
       "7. **app.httpd_cpu_utilization**:\n",
       "   - Average User CPU: 9.00 (notable peak)\n",
       "   - Average System CPU: 2.07\n",
       "\n",
       "8. **app.vpn_cpu_utilization**:\n",
       "   - Average User CPU: 0.00\n",
       "   - Average System CPU: 0.09\n",
       "\n",
       "9. **app.logs_cpu_utilization**:\n",
       "   - Average User CPU: 0.00\n",
       "   - Average System CPU: 0.09\n",
       "\n",
       "10. **app.nfs_cpu_utilization**:\n",
       "    - Average User CPU: 0.00\n",
       "    - Average System CPU: 0.00\n",
       "\n",
       "### Notable Observations:\n",
       "- The **app.httpd_cpu_utilization** has the highest CPU utilization, particularly in User CPU usage.\n",
       "- Several applications show negligible or zero CPU utilization over this period.\n",
       "\n",
       "Please let me know if you need more specific information or other charts!"
      ],
      "text/plain": [
       "<IPython.core.display.Markdown object>"
      ]
     },
     "metadata": {},
     "output_type": "display_data"
    }
   ],
   "source": [
    "msg = 'What apps are using most cpu on new york over the last 15 minutes?'\n",
    "print_md(agent.chat(msg, return_last=True))"
   ]
  },
  {
   "cell_type": "code",
   "execution_count": 5,
   "metadata": {},
   "outputs": [
    {
     "data": {
      "text/markdown": [
       "Here are the user processes' CPU utilization percentages over the last hour in San Francisco. The values represent the average utilization for each data point taken at intervals within the hour:\n",
       "\n",
       "- User CPU Utilization: Averages between roughly 8.5% to 10.5%.\n",
       "- System CPU Utilization: Ranges between approximately 2.1% to 3.0%.\n",
       "\n",
       "Note that there are some missing data points. However, overall trends indicate that user processes are consuming significantly more CPU than system processes. If you need a specific breakdown by users, further analysis can be performed based on user-specific data if available."
      ],
      "text/plain": [
       "<IPython.core.display.Markdown object>"
      ]
     },
     "metadata": {},
     "output_type": "display_data"
    }
   ],
   "source": [
    "msg = 'What users are using most cpu on sanfransicso the last hour?'\n",
    "print_md(agent.chat(msg, return_last=True))"
   ]
  },
  {
   "cell_type": "code",
   "execution_count": 14,
   "metadata": {},
   "outputs": [
    {
     "data": {
      "text/markdown": [
       "On the Bangalore node, the current CPU utilization by specific users is as follows:\n",
       "\n",
       "1. **User `netdata`**\n",
       "   - User CPU Utilization: 12.000247%\n",
       "   - System CPU Utilization: 4.6673811%\n",
       "\n",
       "2. **User `root`**\n",
       "   - User CPU Utilization: 2.0012143%\n",
       "   - System CPU Utilization: 3.3342598%\n",
       "   - Total CPU Utilization: 5.3354741%\n",
       "\n",
       "3. **User `www-data`**\n",
       "   - User CPU Utilization: 0%\n",
       "   - System CPU Utilization: 0%\n",
       "   - Total CPU Utilization: 0%\n",
       "\n",
       "4. **User `Debian-exim`**\n",
       "   - User CPU Utilization: 0%\n",
       "   - System CPU Utilization: 0%\n",
       "   - Total CPU Utilization: 0%\n",
       "\n",
       "5. **User `unbound`**\n",
       "   - User CPU Utilization: 0%\n",
       "   - System CPU Utilization: 0%\n",
       "   - Total CPU Utilization: 0%\n",
       "\n",
       "6. **User `daemon`**\n",
       "   - User CPU Utilization: 0%\n",
       "   - System CPU Utilization: 0%\n",
       "   - Total CPU Utilization: 0%\n",
       "\n",
       "7. **User `logind`** (in the context of users, like sessions)\n",
       "   - Online Users: 0\n",
       "   - Active Users: 0\n",
       "\n",
       "Based on the current data, the user `netdata` is utilizing the highest CPU among the users, followed by `root`. Other users are not consuming any CPU resources at this time."
      ],
      "text/plain": [
       "<IPython.core.display.Markdown object>"
      ]
     },
     "metadata": {},
     "output_type": "display_data"
    }
   ],
   "source": [
    "msg = 'What specific users are using most cpu on bangalore?'\n",
    "print_md(agent.chat(msg, return_last=True))"
   ]
  },
  {
   "cell_type": "code",
   "execution_count": 7,
   "metadata": {},
   "outputs": [
    {
     "data": {
      "text/markdown": [
       "The RAM usage on the Bangalore node is as follows (in MB):\n",
       "\n",
       "- **Free RAM**: varies between approximately 157 MB to 170 MB.\n",
       "- **Used RAM**: hovers around 951 MB to 964 MB.\n",
       "- **Cached**: remains steady at approximately 717 MB.\n",
       "- **Buffers**: remains steady at approximately 127 MB. \n",
       "\n",
       "These values give a snapshot of the current RAM utilization."
      ],
      "text/plain": [
       "<IPython.core.display.Markdown object>"
      ]
     },
     "metadata": {},
     "output_type": "display_data"
    }
   ],
   "source": [
    "msg = 'what is the ram usage like on bangalore node?'\n",
    "print_md(agent.chat(msg, return_last=True))"
   ]
  },
  {
   "cell_type": "code",
   "execution_count": 8,
   "metadata": {},
   "outputs": [
    {
     "data": {
      "text/markdown": [
       "Here's a quick summary of the current MySQL metrics for the London host:\n",
       "\n",
       "1. **CPU Utilization**: \n",
       "   - User CPU utilization fluctuates between approximately 0.28 to 0.48.\n",
       "   - System CPU utilization remains much lower in comparison, occasionally spiking.\n",
       "\n",
       "2. **Memory Usage**: \n",
       "   - Unfortunately, there was an SSL error while attempting to retrieve memory usage data, preventing a complete analysis. It may be necessary to check the connection or the server's SSL configuration.\n",
       "\n",
       "3. **Connections**: \n",
       "   - The data indicates no open or aborted connections for the checked interval.\n",
       "\n",
       "4. **Queries**: \n",
       "   - Both regular and slow queries appear steady, maintaining a rate of approximately six queries/sec, with no slow queries detected in the last few minutes.\n",
       "\n",
       "If you have any specific metrics you'd like me to investigate or need further assistance, feel free to ask!"
      ],
      "text/plain": [
       "<IPython.core.display.Markdown object>"
      ]
     },
     "metadata": {},
     "output_type": "display_data"
    }
   ],
   "source": [
    "msg = 'How are the mysql metrics looking on the london?'\n",
    "print_md(agent.chat(msg, return_last=True))"
   ]
  },
  {
   "cell_type": "code",
   "execution_count": 11,
   "metadata": {},
   "outputs": [
    {
     "data": {
      "text/markdown": [
       "There are currently two active alarms on the Toronto Netdata instance:\n",
       "\n",
       "1. **Alarm Name:** 10min_qos_packet_drops\n",
       "   - **Chart:** `tc.eth0_dropped`\n",
       "   - **Status:** WARNING\n",
       "   - **Value:** 2 packets\n",
       "   - **Info:** Dropped packets in the last 5 minutes\n",
       "   - **Summary:** QOS packet drops\n",
       "\n",
       "2. **Alarm Name:** 10min_qos_packet_drops\n",
       "   - **Chart:** `tc.eth0-ifb_dropped`\n",
       "   - **Status:** WARNING\n",
       "   - **Value:** 4 packets\n",
       "   - **Info:** Dropped packets in the last 5 minutes\n",
       "   - **Summary:** QOS packet drops\n",
       "\n",
       "Both alarms indicate that there are packet drops occurring in the specified time frame."
      ],
      "text/plain": [
       "<IPython.core.display.Markdown object>"
      ]
     },
     "metadata": {},
     "output_type": "display_data"
    }
   ],
   "source": [
    "msg = 'any active alarms on toronto?'\n",
    "print_md(agent.chat(msg, return_last=True))"
   ]
  },
  {
   "cell_type": "code",
   "execution_count": 12,
   "metadata": {},
   "outputs": [
    {
     "data": {
      "text/markdown": [
       "The active alarms indicate that there are packets being dropped in the network interface cards monitored by the respective charts. Here's a breakdown of what this means:\n",
       "\n",
       "1. **Packet Drops**: Packet drops occur when a device cannot process incoming packets fast enough. This can be due to several reasons such as high traffic, insufficient resources (CPU, memory), network congestion, or hardware issues.\n",
       "\n",
       "2. **Implications**:\n",
       "   - If your application relies on real-time communication (like VoIP, online gaming, or streaming services), packet drops can lead to performance issues like lag, interruptions, or lower quality service.\n",
       "   - If this is happening on a critical service or application, it may affect the availability or reliability of your services.\n",
       "\n",
       "3. **Should You Be Worried?**:\n",
       "   - **Short Intervals**: If this is a transient issue (i.e., it happens for a short time and is followed by no further drops), it may not be a major concern.\n",
       "   - **Persisting Issues**: If these alarms persist, you should investigate the cause. It may require tuning your network settings, allocating more resources, or checking for hardware issues.\n",
       "\n",
       "### Recommended Actions:\n",
       "- Monitor the charts for trends in packet drops.\n",
       "- Check the health of your network equipment (routers, switches).\n",
       "- Analyze traffic patterns to see if there are spikes in usage that coincide with the packet drops.\n",
       "- Consider setting up additional alarms or performance metrics to get alerted if the situation worsens.\n",
       "\n",
       "In summary, while packet drops are a cause for concern, especially if they’re consistent, they are not necessarily an immediate crisis. Proactive monitoring and analysis will help ensure that any potential issues are managed swiftly."
      ],
      "text/plain": [
       "<IPython.core.display.Markdown object>"
      ]
     },
     "metadata": {},
     "output_type": "display_data"
    }
   ],
   "source": [
    "msg = 'what do the alarms mean? should i be worried?'\n",
    "print_md(agent.chat(msg, return_last=True, continue_chat=True))"
   ]
  },
  {
   "cell_type": "code",
   "execution_count": 11,
   "metadata": {},
   "outputs": [
    {
     "data": {
      "text/markdown": [
       "Here's a summary of the Nginx metrics on the London node over the last couple of hours:\n",
       "\n",
       "1. **Connections**: The average number of active connections is around 151, with fluctuations between 135 and 167 observed periodically.\n",
       "\n",
       "2. **Requests**: Approximately 10–11 requests were handled on average per data point during the period.\n",
       "\n",
       "3. **Accepted and Handled Connections**: There's a steady rate of accepted and handled connections, which appears to hover slightly under 1 connection per data interval on average.\n",
       "\n",
       "4. **Connection Status**:\n",
       "   - Most connections are idle, ranging from around 128 to 166 on average.\n",
       "   - The number of active writing connections is generally stable at about 1.\n",
       "\n",
       "These metrics indicate relatively steady activity on the Nginx server in London with no significant variations observed in the last couple of hours. If you need further details or have specific questions about these metrics, feel free to ask!"
      ],
      "text/plain": [
       "<IPython.core.display.Markdown object>"
      ]
     },
     "metadata": {},
     "output_type": "display_data"
    }
   ],
   "source": [
    "msg = 'How are the nginx metrics looking on the london node over he last couple of hours?'\n",
    "print_md(agent.chat(msg, return_last=True))"
   ]
  },
  {
   "cell_type": "code",
   "execution_count": null,
   "metadata": {},
   "outputs": [],
   "source": []
  }
 ],
 "metadata": {
  "kernelspec": {
   "display_name": "venv",
   "language": "python",
   "name": "python3"
  },
  "language_info": {
   "codemirror_mode": {
    "name": "ipython",
    "version": 3
   },
   "file_extension": ".py",
   "mimetype": "text/x-python",
   "name": "python",
   "nbconvert_exporter": "python",
   "pygments_lexer": "ipython3",
   "version": "3.11.9"
  }
 },
 "nbformat": 4,
 "nbformat_minor": 2
}
